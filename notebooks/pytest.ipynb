{
 "cells": [
  {
   "cell_type": "markdown",
   "metadata": {},
   "source": [
    "# Unit test using pytest"
   ]
  },
  {
   "cell_type": "code",
   "execution_count": 1,
   "metadata": {},
   "outputs": [],
   "source": [
    "import pytest"
   ]
  },
  {
   "cell_type": "code",
   "execution_count": 33,
   "metadata": {},
   "outputs": [],
   "source": [
    "def row_to_list(row):\n",
    "    # \"2,081\\t314,942\\n\"\n",
    "    try:\n",
    "        f = row.split('\\t')[0]\n",
    "        s = row.split('\\t')[1].split(',')[0]\n",
    "        t = row.split('\\t')[1].split(',')[1].split('\\n')[0]\n",
    "        result = [f, s, t]\n",
    "    except IndexError:\n",
    "        result = None\n",
    "    return result\n",
    "\n",
    "def convert_to_int(value):\n",
    "    value = value.replace(',', '')\n",
    "    return int(value)"
   ]
  },
  {
   "cell_type": "markdown",
   "metadata": {},
   "source": [
    "- **task** : The data file containing housing area and prices uses commas as thousands separators, e.g. \"2,081\" or \"314,942\"\n",
    "\n",
    "- The **convert_to_int()** function takes a comma separated integer string as argument, and returns the integer. Therefore, the expected return value of convert_to_int(\"2,081\") is the integer 2081."
   ]
  },
  {
   "cell_type": "code",
   "execution_count": 34,
   "metadata": {},
   "outputs": [],
   "source": [
    "# Unit test\n",
    "def test_on_string_with_one_comma():\n",
    "  # Complete the assert statement\n",
    "  assert convert_to_int(\"2,081\") == 2081"
   ]
  },
  {
   "cell_type": "markdown",
   "metadata": {},
   "source": [
    " D:\\Projects\\Datacamp\\Unit Testing in Python for Data Science\\test_modules>pytest test_preprocessing_helpers.py\n",
    "====================================================================================== test session starts ====================================================================================== \n",
    "platform win32 -- Python 3.7.3, pytest-4.3.1, py-1.8.0, pluggy-0.9.0\n",
    "rootdir: D:\\Projects\\Datacamp\\Unit Testing in Python for Data Science\\test_modules, inifile:\n",
    "plugins: remotedata-0.3.1, openfiles-0.3.2, doctestplus-0.3.0, arraydiff-0.3\n",
    "collected 1 item                                                                                                                                                                                  \n",
    "\n",
    "test_preprocessing_helpers.py .                                                                                                                                                            [100%] \n",
    "\n",
    "=================================================================================== 1 passed in 0.03 seconds ==================================================================================== "
   ]
  },
  {
   "cell_type": "code",
   "execution_count": null,
   "metadata": {},
   "outputs": [],
   "source": []
  }
 ],
 "metadata": {
  "kernelspec": {
   "display_name": "Python 3",
   "language": "python",
   "name": "python3"
  },
  "language_info": {
   "codemirror_mode": {
    "name": "ipython",
    "version": 3
   },
   "file_extension": ".py",
   "mimetype": "text/x-python",
   "name": "python",
   "nbconvert_exporter": "python",
   "pygments_lexer": "ipython3",
   "version": "3.7.3"
  }
 },
 "nbformat": 4,
 "nbformat_minor": 2
}
